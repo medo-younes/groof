{
 "cells": [
  {
   "cell_type": "code",
   "execution_count": 1,
   "id": "83623c47",
   "metadata": {},
   "outputs": [
    {
     "ename": "ModuleNotFoundError",
     "evalue": "No module named 'ee_pipeline'",
     "output_type": "error",
     "traceback": [
      "\u001b[31m---------------------------------------------------------------------------\u001b[39m",
      "\u001b[31mModuleNotFoundError\u001b[39m                       Traceback (most recent call last)",
      "\u001b[36mCell\u001b[39m\u001b[36m \u001b[39m\u001b[32mIn[1]\u001b[39m\u001b[32m, line 4\u001b[39m\n\u001b[32m      1\u001b[39m \u001b[38;5;28;01mimport\u001b[39;00m\u001b[38;5;250m \u001b[39m\u001b[34;01msys\u001b[39;00m\n\u001b[32m      2\u001b[39m sys.path.append(\u001b[33m'\u001b[39m\u001b[33m../../geoml\u001b[39m\u001b[33m'\u001b[39m)\n\u001b[32m----> \u001b[39m\u001b[32m4\u001b[39m \u001b[38;5;28;01mfrom\u001b[39;00m\u001b[38;5;250m \u001b[39m\u001b[34;01mee_pipeline\u001b[39;00m\u001b[38;5;250m \u001b[39m\u001b[38;5;28;01mimport\u001b[39;00m ee_s2\n\u001b[32m      5\u001b[39m \u001b[38;5;28;01mfrom\u001b[39;00m\u001b[38;5;250m \u001b[39m\u001b[34;01mgeo\u001b[39;00m\u001b[38;5;250m \u001b[39m\u001b[38;5;28;01mimport\u001b[39;00m band_stats\n",
      "\u001b[31mModuleNotFoundError\u001b[39m: No module named 'ee_pipeline'"
     ]
    }
   ],
   "source": [
    "import sys\n",
    "sys.path.append('../../geoml')\n",
    "\n",
    "from ee_pipeline import ee_s2\n",
    "from geo import band_stats"
   ]
  },
  {
   "cell_type": "code",
   "execution_count": null,
   "id": "a4531a79",
   "metadata": {},
   "outputs": [
    {
     "data": {
      "text/html": [
       "\n",
       "            <style>\n",
       "                .geemap-dark {\n",
       "                    --jp-widgets-color: white;\n",
       "                    --jp-widgets-label-color: white;\n",
       "                    --jp-ui-font-color1: white;\n",
       "                    --jp-layout-color2: #454545;\n",
       "                    background-color: #383838;\n",
       "                }\n",
       "\n",
       "                .geemap-dark .jupyter-button {\n",
       "                    --jp-layout-color3: #383838;\n",
       "                }\n",
       "\n",
       "                .geemap-colab {\n",
       "                    background-color: var(--colab-primary-surface-color, white);\n",
       "                }\n",
       "\n",
       "                .geemap-colab .jupyter-button {\n",
       "                    --jp-layout-color3: var(--colab-primary-surface-color, white);\n",
       "                }\n",
       "            </style>\n",
       "            "
      ],
      "text/plain": [
       "<IPython.core.display.HTML object>"
      ]
     },
     "metadata": {},
     "output_type": "display_data"
    }
   ],
   "source": [
    "import geopandas as gpd\n",
    "import rasterio as r\n",
    "from pathlib import Path\n",
    "import matplotlib.pyplot as plt\n",
    "import rioxarray as rio\n",
    "import pandas as pd"
   ]
  },
  {
   "cell_type": "code",
   "execution_count": null,
   "id": "072d1a3e",
   "metadata": {},
   "outputs": [
    {
     "data": {
      "text/html": [
       "\n",
       "            <style>\n",
       "                .geemap-dark {\n",
       "                    --jp-widgets-color: white;\n",
       "                    --jp-widgets-label-color: white;\n",
       "                    --jp-ui-font-color1: white;\n",
       "                    --jp-layout-color2: #454545;\n",
       "                    background-color: #383838;\n",
       "                }\n",
       "\n",
       "                .geemap-dark .jupyter-button {\n",
       "                    --jp-layout-color3: #383838;\n",
       "                }\n",
       "\n",
       "                .geemap-colab {\n",
       "                    background-color: var(--colab-primary-surface-color, white);\n",
       "                }\n",
       "\n",
       "                .geemap-colab .jupyter-button {\n",
       "                    --jp-layout-color3: var(--colab-primary-surface-color, white);\n",
       "                }\n",
       "            </style>\n",
       "            "
      ],
      "text/plain": [
       "<IPython.core.display.HTML object>"
      ]
     },
     "metadata": {},
     "output_type": "display_data"
    }
   ],
   "source": [
    "raw_dir = Path('data/raw')\n",
    "bldg_fp = raw_dir /'buildings.geojson'\n",
    "ndvi_fp = raw_dir / 'ndvi.tif'\n",
    "ndmi_fp = raw_dir / 'ndmi_median.tif'\n",
    "evi_fp = raw_dir / 'evi_median.tif'\n",
    "bu_fp = raw_dir / 'bu_median.tif'\n",
    "ndbi_fp = raw_dir / 'ndbi_median.tif'\n",
    "\n",
    "\n",
    "s2_fp = raw_dir / 'sentinel2.tif'\n",
    "train_fp = raw_dir / 'greenroof_train.geojson'\n",
    "s2_bands_fp = 'meta/sentinel_bands.csv'\n",
    "ndvi_reproj_fp = str(ndvi_fp).replace('raw', 'prc')\n",
    "evi_reproj_fp = str(evi_fp).replace('raw', 'prc')\n",
    "bu_reproj_fp = str(bu_fp).replace('raw', 'prc')\n",
    "ndmi_reproj_fp = str(ndmi_fp).replace('raw', 'prc')\n",
    "ndbi_reproj_fp = str(ndbi_fp).replace('raw', 'prc')"
   ]
  },
  {
   "cell_type": "code",
   "execution_count": null,
   "id": "272a5d85",
   "metadata": {},
   "outputs": [
    {
     "data": {
      "text/html": [
       "\n",
       "            <style>\n",
       "                .geemap-dark {\n",
       "                    --jp-widgets-color: white;\n",
       "                    --jp-widgets-label-color: white;\n",
       "                    --jp-ui-font-color1: white;\n",
       "                    --jp-layout-color2: #454545;\n",
       "                    background-color: #383838;\n",
       "                }\n",
       "\n",
       "                .geemap-dark .jupyter-button {\n",
       "                    --jp-layout-color3: #383838;\n",
       "                }\n",
       "\n",
       "                .geemap-colab {\n",
       "                    background-color: var(--colab-primary-surface-color, white);\n",
       "                }\n",
       "\n",
       "                .geemap-colab .jupyter-button {\n",
       "                    --jp-layout-color3: var(--colab-primary-surface-color, white);\n",
       "                }\n",
       "            </style>\n",
       "            "
      ],
      "text/plain": [
       "<IPython.core.display.HTML object>"
      ]
     },
     "metadata": {},
     "output_type": "display_data"
    }
   ],
   "source": [
    "evi = rio.open_rasterio(evi_reproj_fp)\n",
    "ndmi = rio.open_rasterio(ndmi_reproj_fp)\n",
    "ndbi = rio.open_rasterio(ndbi_reproj_fp)\n",
    "bu = rio.open_rasterio(bu_reproj_fp)\n",
    "s2 = rio.open_rasterio(s2_fp)\n",
    "# dsm = rio.open_rasterio(dsm_fp)\n",
    "s2 = s2 / 10000\n",
    "train=gpd.read_file(train_fp)\n",
    "bldg = gpd.read_file(bldg_fp)\n",
    "bldg['fid'] = bldg.index\n",
    "bldg.set_index('fid', inplace = True)\n",
    "\n",
    "\n",
    "train = train.to_crs(train.estimate_utm_crs())\n",
    "bldg = bldg.to_crs(bldg.estimate_utm_crs())"
   ]
  },
  {
   "cell_type": "code",
   "execution_count": null,
   "id": "3a39e676",
   "metadata": {},
   "outputs": [
    {
     "data": {
      "text/html": [
       "\n",
       "            <style>\n",
       "                .geemap-dark {\n",
       "                    --jp-widgets-color: white;\n",
       "                    --jp-widgets-label-color: white;\n",
       "                    --jp-ui-font-color1: white;\n",
       "                    --jp-layout-color2: #454545;\n",
       "                    background-color: #383838;\n",
       "                }\n",
       "\n",
       "                .geemap-dark .jupyter-button {\n",
       "                    --jp-layout-color3: #383838;\n",
       "                }\n",
       "\n",
       "                .geemap-colab {\n",
       "                    background-color: var(--colab-primary-surface-color, white);\n",
       "                }\n",
       "\n",
       "                .geemap-colab .jupyter-button {\n",
       "                    --jp-layout-color3: var(--colab-primary-surface-color, white);\n",
       "                }\n",
       "            </style>\n",
       "            "
      ],
      "text/plain": [
       "<IPython.core.display.HTML object>"
      ]
     },
     "metadata": {},
     "output_type": "display_data"
    }
   ],
   "source": [
    "s2_bands =pd.read_csv(s2_bands_fp)\n",
    "\n",
    "\n",
    "sel_bands = s2_bands[s2_bands.mission == 'S2A'].set_index('band').loc[['B02', 'B03', 'B04', 'B05', 'B06', 'B07', 'B8A', 'B11', 'B12']]\n",
    "\n",
    "sel_wv = sel_bands.wavelength_nm.values\n"
   ]
  },
  {
   "cell_type": "code",
   "execution_count": null,
   "id": "8ba57fe3",
   "metadata": {},
   "outputs": [
    {
     "data": {
      "text/html": [
       "\n",
       "            <style>\n",
       "                .geemap-dark {\n",
       "                    --jp-widgets-color: white;\n",
       "                    --jp-widgets-label-color: white;\n",
       "                    --jp-ui-font-color1: white;\n",
       "                    --jp-layout-color2: #454545;\n",
       "                    background-color: #383838;\n",
       "                }\n",
       "\n",
       "                .geemap-dark .jupyter-button {\n",
       "                    --jp-layout-color3: #383838;\n",
       "                }\n",
       "\n",
       "                .geemap-colab {\n",
       "                    background-color: var(--colab-primary-surface-color, white);\n",
       "                }\n",
       "\n",
       "                .geemap-colab .jupyter-button {\n",
       "                    --jp-layout-color3: var(--colab-primary-surface-color, white);\n",
       "                }\n",
       "            </style>\n",
       "            "
      ],
      "text/plain": [
       "<IPython.core.display.HTML object>"
      ]
     },
     "metadata": {},
     "output_type": "display_data"
    }
   ],
   "source": [
    "train_zones = train.dissolve(by='class_name')"
   ]
  },
  {
   "cell_type": "code",
   "execution_count": null,
   "id": "dbb4297e",
   "metadata": {},
   "outputs": [
    {
     "data": {
      "text/html": [
       "\n",
       "            <style>\n",
       "                .geemap-dark {\n",
       "                    --jp-widgets-color: white;\n",
       "                    --jp-widgets-label-color: white;\n",
       "                    --jp-ui-font-color1: white;\n",
       "                    --jp-layout-color2: #454545;\n",
       "                    background-color: #383838;\n",
       "                }\n",
       "\n",
       "                .geemap-dark .jupyter-button {\n",
       "                    --jp-layout-color3: #383838;\n",
       "                }\n",
       "\n",
       "                .geemap-colab {\n",
       "                    background-color: var(--colab-primary-surface-color, white);\n",
       "                }\n",
       "\n",
       "                .geemap-colab .jupyter-button {\n",
       "                    --jp-layout-color3: var(--colab-primary-surface-color, white);\n",
       "                }\n",
       "            </style>\n",
       "            "
      ],
      "text/plain": [
       "<IPython.core.display.HTML object>"
      ]
     },
     "metadata": {},
     "output_type": "display_data"
    }
   ],
   "source": [
    "groof = train[train.class_name == 'green_roof']\n",
    "roof = train[train.class_name == 'roof']\n",
    "\n",
    "# Get Green Roof Pixel Values for EVI and BU\n",
    "groof_evi = evi.rio.clip(groof.geometry.values, crs=groof.crs)\n",
    "groof_bu = bu.rio.clip(groof.geometry.values, crs=groof.crs)\n",
    "\n",
    "# Get Roof Pixel Values for EVI and BU\n",
    "roof_evi = evi.rio.clip(roof.geometry.values, crs=groof.crs)\n",
    "roof_bu = bu.rio.clip(roof.geometry.values, crs=groof.crs)\n",
    "\n",
    "\n",
    "import numpy as np\n",
    "fill_value = -np.inf\n",
    "# Get Green Roof Values\n",
    "groof_evi_val = groof_evi.values.ravel()\n",
    "groof_evi_val= groof_evi_val[groof_evi_val != fill_value]\n",
    "groof_bu_val = groof_bu.values.ravel()\n",
    "groof_bu_val= groof_bu_val[groof_bu_val != fill_value]\n",
    "\n",
    "# Get Roof Values\n",
    "roof_evi_val = roof_evi.values.ravel()\n",
    "roof_evi_val= roof_evi_val[roof_evi_val != fill_value]\n",
    "roof_bu_val = roof_bu.values.ravel()\n",
    "roof_bu_val= roof_bu_val[roof_bu_val != fill_value]\n",
    "\n",
    "groof_val_df = pd.DataFrame(dict(evi = groof_evi_val, bu = groof_bu_val, class_name = ['green_roof' for x in range(0, len(groof_evi_val))]))\n",
    "roof_val_df = pd.DataFrame(dict(evi = roof_evi_val, bu = roof_bu_val, class_name = ['roof' for x in range(0, len(roof_evi_val))]))\n",
    "\n",
    "val_df = pd.concat([groof_val_df,roof_val_df])"
   ]
  },
  {
   "cell_type": "code",
   "execution_count": null,
   "id": "83a3fafb",
   "metadata": {},
   "outputs": [
    {
     "data": {
      "text/html": [
       "\n",
       "            <style>\n",
       "                .geemap-dark {\n",
       "                    --jp-widgets-color: white;\n",
       "                    --jp-widgets-label-color: white;\n",
       "                    --jp-ui-font-color1: white;\n",
       "                    --jp-layout-color2: #454545;\n",
       "                    background-color: #383838;\n",
       "                }\n",
       "\n",
       "                .geemap-dark .jupyter-button {\n",
       "                    --jp-layout-color3: #383838;\n",
       "                }\n",
       "\n",
       "                .geemap-colab {\n",
       "                    background-color: var(--colab-primary-surface-color, white);\n",
       "                }\n",
       "\n",
       "                .geemap-colab .jupyter-button {\n",
       "                    --jp-layout-color3: var(--colab-primary-surface-color, white);\n",
       "                }\n",
       "            </style>\n",
       "            "
      ],
      "text/plain": [
       "<IPython.core.display.HTML object>"
      ]
     },
     "metadata": {},
     "output_type": "display_data"
    },
    {
     "data": {
      "text/plain": [
       "Text(0.5, 0, 'Built-up Index')"
      ]
     },
     "execution_count": 8,
     "metadata": {},
     "output_type": "execute_result"
    },
    {
     "data": {
      "image/png": "[encoded data removed]",
      "text/plain": [
       "<Figure size 1000x800 with 1 Axes>"
      ]
     },
     "metadata": {},
     "output_type": "display_data"
    }
   ],
   "source": [
    "fig, ax = plt.subplots(figsize = (10,8))\n",
    "\n",
    "ax.scatter(groof_val_df['bu'], groof_val_df['evi'], color = 'green', s = 5)\n",
    "ax.scatter(roof_val_df['bu'], roof_val_df['evi'], color = 'red', s = 5)\n",
    "\n",
    "ax.set_ylabel('Enhanced Vegetation Index')\n",
    "ax.set_xlabel('Built-up Index')"
   ]
  },
  {
   "cell_type": "code",
   "execution_count": 2,
   "id": "cde6b265",
   "metadata": {},
   "outputs": [
    {
     "ename": "NameError",
     "evalue": "name 'band_stats' is not defined",
     "output_type": "error",
     "traceback": [
      "\u001b[31m---------------------------------------------------------------------------\u001b[39m",
      "\u001b[31mNameError\u001b[39m                                 Traceback (most recent call last)",
      "\u001b[36mCell\u001b[39m\u001b[36m \u001b[39m\u001b[32mIn[2]\u001b[39m\u001b[32m, line 1\u001b[39m\n\u001b[32m----> \u001b[39m\u001b[32m1\u001b[39m bldg_stats_evi = \u001b[43mband_stats\u001b[49m(zones = bldg, raster = evi)\n\u001b[32m      2\u001b[39m bldg_stats_bu = band_stats(zones = bldg, raster = bu)\n\u001b[32m      3\u001b[39m \u001b[38;5;66;03m# bldg_stats_s2 = band_stats(zones = bldg, raster = s2)\u001b[39;00m\n\u001b[32m      4\u001b[39m \u001b[38;5;66;03m# s2_stats = band_stats(zones = train_zones, raster =s2)\u001b[39;00m\n\u001b[32m      5\u001b[39m \u001b[38;5;66;03m# s2_stats = s2_stats.set_index('class_name')\u001b[39;00m\n\u001b[32m   (...)\u001b[39m\u001b[32m      8\u001b[39m \u001b[38;5;66;03m# nvdi_stats = band_stats(zones = train_zones, raster =ndvi)\u001b[39;00m\n\u001b[32m      9\u001b[39m \u001b[38;5;66;03m# dsm_stats = band_stats(zones = train_zones, raster = dsm)\u001b[39;00m\n",
      "\u001b[31mNameError\u001b[39m: name 'band_stats' is not defined"
     ]
    }
   ],
   "source": [
    "bldg_stats_evi = band_stats(zones = bldg, raster = evi)\n",
    "bldg_stats_bu = band_stats(zones = bldg, raster = bu)\n",
    "# bldg_stats_s2 = band_stats(zones = bldg, raster = s2)\n",
    "# s2_stats = band_stats(zones = train_zones, raster =s2)\n",
    "# s2_stats = s2_stats.set_index('class_name')\n",
    "# s2_stats['wavelength_nm'] = s2_stats.band.apply(lambda b: sel_wv[b-1])\n",
    "\n",
    "# nvdi_stats = band_stats(zones = train_zones, raster =ndvi)\n",
    "# dsm_stats = band_stats(zones = train_zones, raster = dsm)"
   ]
  },
  {
   "cell_type": "code",
   "execution_count": null,
   "id": "dfd813c4",
   "metadata": {},
   "outputs": [
    {
     "data": {
      "text/html": [
       "\n",
       "            <style>\n",
       "                .geemap-dark {\n",
       "                    --jp-widgets-color: white;\n",
       "                    --jp-widgets-label-color: white;\n",
       "                    --jp-ui-font-color1: white;\n",
       "                    --jp-layout-color2: #454545;\n",
       "                    background-color: #383838;\n",
       "                }\n",
       "\n",
       "                .geemap-dark .jupyter-button {\n",
       "                    --jp-layout-color3: #383838;\n",
       "                }\n",
       "\n",
       "                .geemap-colab {\n",
       "                    background-color: var(--colab-primary-surface-color, white);\n",
       "                }\n",
       "\n",
       "                .geemap-colab .jupyter-button {\n",
       "                    --jp-layout-color3: var(--colab-primary-surface-color, white);\n",
       "                }\n",
       "            </style>\n",
       "            "
      ],
      "text/plain": [
       "<IPython.core.display.HTML object>"
      ]
     },
     "metadata": {},
     "output_type": "display_data"
    }
   ],
   "source": [
    "# bldg_stats_gdf = bldg.join(bldg_stats.set_index('fid'))[['median','geometry']]"
   ]
  },
  {
   "cell_type": "markdown",
   "id": "006993bd",
   "metadata": {},
   "source": [
    "## Get Building Roof Characteristics"
   ]
  },
  {
   "cell_type": "code",
   "execution_count": null,
   "id": "cd1b7a16",
   "metadata": {},
   "outputs": [
    {
     "data": {
      "text/html": [
       "\n",
       "            <style>\n",
       "                .geemap-dark {\n",
       "                    --jp-widgets-color: white;\n",
       "                    --jp-widgets-label-color: white;\n",
       "                    --jp-ui-font-color1: white;\n",
       "                    --jp-layout-color2: #454545;\n",
       "                    background-color: #383838;\n",
       "                }\n",
       "\n",
       "                .geemap-dark .jupyter-button {\n",
       "                    --jp-layout-color3: #383838;\n",
       "                }\n",
       "\n",
       "                .geemap-colab {\n",
       "                    background-color: var(--colab-primary-surface-color, white);\n",
       "                }\n",
       "\n",
       "                .geemap-colab .jupyter-button {\n",
       "                    --jp-layout-color3: var(--colab-primary-surface-color, white);\n",
       "                }\n",
       "            </style>\n",
       "            "
      ],
      "text/plain": [
       "<IPython.core.display.HTML object>"
      ]
     },
     "metadata": {},
     "output_type": "display_data"
    }
   ],
   "source": [
    "import xarray as xr\n",
    "\n",
    "evi.name ='evi'\n",
    "ndwi.name = 'ndwi'\n",
    "bu.name = 'bu'\n",
    "ndbi.name = 'ndbi'\n",
    "X = xr.merge([evi, ndmi, bu,ndbi])"
   ]
  },
  {
   "cell_type": "code",
   "execution_count": null,
   "id": "5c3e4d60",
   "metadata": {},
   "outputs": [
    {
     "data": {
      "text/html": [
       "\n",
       "            <style>\n",
       "                .geemap-dark {\n",
       "                    --jp-widgets-color: white;\n",
       "                    --jp-widgets-label-color: white;\n",
       "                    --jp-ui-font-color1: white;\n",
       "                    --jp-layout-color2: #454545;\n",
       "                    background-color: #383838;\n",
       "                }\n",
       "\n",
       "                .geemap-dark .jupyter-button {\n",
       "                    --jp-layout-color3: #383838;\n",
       "                }\n",
       "\n",
       "                .geemap-colab {\n",
       "                    background-color: var(--colab-primary-surface-color, white);\n",
       "                }\n",
       "\n",
       "                .geemap-colab .jupyter-button {\n",
       "                    --jp-layout-color3: var(--colab-primary-surface-color, white);\n",
       "                }\n",
       "            </style>\n",
       "            "
      ],
      "text/plain": [
       "<IPython.core.display.HTML object>"
      ]
     },
     "metadata": {},
     "output_type": "display_data"
    }
   ],
   "source": [
    "bldg_class = bldg.sjoin(train)\n",
    "bldg_groof=bldg_class[bldg_class.class_name =='green_roof']\n",
    "bldg_roof=bldg_class[bldg_class.class_name =='roof']\n",
    "geom = bldg_groof.iloc[1].geometry\n",
    "\n",
    "\n",
    "\n",
    "def rooftop_parameters(X, geom, threshold = 0.2):\n",
    "    '''\n",
    "    Compute Roof Top characteristics based on spectral indces\n",
    "    '''\n",
    "    X_clip= X.rio.clip([geom])\n",
    "    X_clip = X_clip.where(X_clip != -np.inf)\n",
    "    evi_vals= X_clip.evi.values[~X_clip.evi.isnull()]\n",
    "    ndbi_vals= X_clip.ndbi.values[~X_clip.ndbi.isnull()]\n",
    "\n",
    "\n",
    "    np.sum((~X_clip.where(X_clip != -np.inf).evi.isnull().values))\n",
    "    pixel_count = np.sum(~X_clip.evi.isnull().values)\n",
    "    veg_count = X_clip.evi.where(X_clip.evi > threshold).count().values\n",
    "    veg_pct = veg_count / pixel_count\n",
    "    evi_q3 = np.percentile(evi_vals ,q=75)\n",
    "    evi_q2 = np.percentile(evi_vals ,q=50)\n",
    "    bu_mean = (X_clip.bu.mean()).values\n",
    "    ndbi_mean = ndbi_vals.mean()\n",
    "    ndbi_q3 = np.percentile(ndbi_vals,q=75)\n",
    "    ndbi_q2 = np.percentile(ndbi_vals,q=50)\n",
    "\n",
    "    return dict(\n",
    "    pixel_count = pixel_count,\n",
    "    veg_count = veg_count,\n",
    "    veg_pct = veg_pct,\n",
    "    # evi_mean_weighted=evi_mean_weighted,\n",
    "    evi_q3 = evi_q3,\n",
    "    evi_q2= evi_q2,\n",
    "    # bu_count = X_clip.bu.where(X_clip.bu > threshold).count().values,\n",
    "    bu_mean = bu_mean,\n",
    "    # ndmi_count = X_clip.ndmi.where(X_clip.ndmi > threshold).count().values,\n",
    "    ndbi_mean = ndbi_mean,\n",
    "    ndbi_q3 = ndbi_q3,\n",
    "    ndbi_q2 = ndbi_q2\n",
    "    )\n",
    "\n",
    "\n",
    "rooftop_params= pd.DataFrame([rooftop_parameters(X, geom,0.2) for geom in bldg_class.geometry]).astype(float)"
   ]
  },
  {
   "cell_type": "code",
   "execution_count": null,
   "id": "e374d75f",
   "metadata": {},
   "outputs": [
    {
     "data": {
      "text/html": [
       "\n",
       "            <style>\n",
       "                .geemap-dark {\n",
       "                    --jp-widgets-color: white;\n",
       "                    --jp-widgets-label-color: white;\n",
       "                    --jp-ui-font-color1: white;\n",
       "                    --jp-layout-color2: #454545;\n",
       "                    background-color: #383838;\n",
       "                }\n",
       "\n",
       "                .geemap-dark .jupyter-button {\n",
       "                    --jp-layout-color3: #383838;\n",
       "                }\n",
       "\n",
       "                .geemap-colab {\n",
       "                    background-color: var(--colab-primary-surface-color, white);\n",
       "                }\n",
       "\n",
       "                .geemap-colab .jupyter-button {\n",
       "                    --jp-layout-color3: var(--colab-primary-surface-color, white);\n",
       "                }\n",
       "            </style>\n",
       "            "
      ],
      "text/plain": [
       "<IPython.core.display.HTML object>"
      ]
     },
     "metadata": {},
     "output_type": "display_data"
    },
    {
     "data": {
      "text/html": [
       "<div>\n",
       "<style scoped>\n",
       "    .dataframe tbody tr th:only-of-type {\n",
       "        vertical-align: middle;\n",
       "    }\n",
       "\n",
       "    .dataframe tbody tr th {\n",
       "        vertical-align: top;\n",
       "    }\n",
       "\n",
       "    .dataframe thead th {\n",
       "        text-align: right;\n",
       "    }\n",
       "</style>\n",
       "<table border=\"1\" class=\"dataframe\">\n",
       "  <thead>\n",
       "    <tr style=\"text-align: right;\">\n",
       "      <th></th>\n",
       "      <th>count</th>\n",
       "      <th>mean</th>\n",
       "      <th>std</th>\n",
       "      <th>min</th>\n",
       "      <th>25%</th>\n",
       "      <th>50%</th>\n",
       "      <th>75%</th>\n",
       "      <th>max</th>\n",
       "    </tr>\n",
       "    <tr>\n",
       "      <th>class_name</th>\n",
       "      <th></th>\n",
       "      <th></th>\n",
       "      <th></th>\n",
       "      <th></th>\n",
       "      <th></th>\n",
       "      <th></th>\n",
       "      <th></th>\n",
       "      <th></th>\n",
       "    </tr>\n",
       "  </thead>\n",
       "  <tbody>\n",
       "    <tr>\n",
       "      <th>green_roof</th>\n",
       "      <td>36.0</td>\n",
       "      <td>0.184444</td>\n",
       "      <td>0.136705</td>\n",
       "      <td>-0.01</td>\n",
       "      <td>0.08</td>\n",
       "      <td>0.155</td>\n",
       "      <td>0.2625</td>\n",
       "      <td>0.55</td>\n",
       "    </tr>\n",
       "    <tr>\n",
       "      <th>roof</th>\n",
       "      <td>24.0</td>\n",
       "      <td>0.047500</td>\n",
       "      <td>0.134075</td>\n",
       "      <td>-0.12</td>\n",
       "      <td>-0.03</td>\n",
       "      <td>-0.005</td>\n",
       "      <td>0.0825</td>\n",
       "      <td>0.40</td>\n",
       "    </tr>\n",
       "  </tbody>\n",
       "</table>\n",
       "</div>"
      ],
      "text/plain": [
       "            count      mean       std   min   25%    50%     75%   max\n",
       "class_name                                                            \n",
       "green_roof   36.0  0.184444  0.136705 -0.01  0.08  0.155  0.2625  0.55\n",
       "roof         24.0  0.047500  0.134075 -0.12 -0.03 -0.005  0.0825  0.40"
      ]
     },
     "execution_count": 16,
     "metadata": {},
     "output_type": "execute_result"
    }
   ],
   "source": [
    "bldg_params = bldg_class[['class_name', 'geometry']].reset_index(drop=True).join(rooftop_params).drop_duplicates('geometry')\n",
    "\n",
    "\n",
    "bldg_params['veg_pct'] = bldg_params['veg_count'] / bldg_params['pixel_count']\n",
    "\n",
    "bldg_params.round(2).sort_values('class_name').groupby('class_name').evi_q2.describe()\n",
    "\n",
    "# bldg_params"
   ]
  },
  {
   "cell_type": "code",
   "execution_count": null,
   "id": "b2b64c3e",
   "metadata": {},
   "outputs": [
    {
     "data": {
      "text/html": [
       "\n",
       "            <style>\n",
       "                .geemap-dark {\n",
       "                    --jp-widgets-color: white;\n",
       "                    --jp-widgets-label-color: white;\n",
       "                    --jp-ui-font-color1: white;\n",
       "                    --jp-layout-color2: #454545;\n",
       "                    background-color: #383838;\n",
       "                }\n",
       "\n",
       "                .geemap-dark .jupyter-button {\n",
       "                    --jp-layout-color3: #383838;\n",
       "                }\n",
       "\n",
       "                .geemap-colab {\n",
       "                    background-color: var(--colab-primary-surface-color, white);\n",
       "                }\n",
       "\n",
       "                .geemap-colab .jupyter-button {\n",
       "                    --jp-layout-color3: var(--colab-primary-surface-color, white);\n",
       "                }\n",
       "            </style>\n",
       "            "
      ],
      "text/plain": [
       "<IPython.core.display.HTML object>"
      ]
     },
     "metadata": {},
     "output_type": "display_data"
    },
    {
     "data": {
      "text/plain": [
       "Text(0.5, 0, 'Built-up Index')"
      ]
     },
     "execution_count": 24,
     "metadata": {},
     "output_type": "execute_result"
    },
    {
     "data": {
      "image/png": "[encoded data removed]",
      "text/plain": [
       "<Figure size 1000x800 with 1 Axes>"
      ]
     },
     "metadata": {},
     "output_type": "display_data"
    }
   ],
   "source": [
    "fig, ax = plt.subplots(figsize = (10,8))\n",
    "\n",
    "ax.scatter(bldg_params['ndbi_q3'], bldg_params['evi_q3'], \n",
    "           c = ['green' if x == 'green_roof' else 'red' for x in bldg_params.class_name], \n",
    "           s = 15)\n",
    "# ax.scatter(bldg_params['bu'], bldg_params['evi'], color = 'red', s = 5)\n",
    "\n",
    "ax.set_ylabel('Enhanced Vegetation Index')\n",
    "ax.set_xlabel('Built-up Index')"
   ]
  },
  {
   "cell_type": "code",
   "execution_count": null,
   "id": "5d203392",
   "metadata": {},
   "outputs": [
    {
     "data": {
      "text/html": [
       "\n",
       "            <style>\n",
       "                .geemap-dark {\n",
       "                    --jp-widgets-color: white;\n",
       "                    --jp-widgets-label-color: white;\n",
       "                    --jp-ui-font-color1: white;\n",
       "                    --jp-layout-color2: #454545;\n",
       "                    background-color: #383838;\n",
       "                }\n",
       "\n",
       "                .geemap-dark .jupyter-button {\n",
       "                    --jp-layout-color3: #383838;\n",
       "                }\n",
       "\n",
       "                .geemap-colab {\n",
       "                    background-color: var(--colab-primary-surface-color, white);\n",
       "                }\n",
       "\n",
       "                .geemap-colab .jupyter-button {\n",
       "                    --jp-layout-color3: var(--colab-primary-surface-color, white);\n",
       "                }\n",
       "            </style>\n",
       "            "
      ],
      "text/plain": [
       "<IPython.core.display.HTML object>"
      ]
     },
     "metadata": {},
     "output_type": "display_data"
    }
   ],
   "source": [
    "stats_df = bldg_stats_evi.set_index('fid').join(bldg_stats_bu.set_index('fid'), rsuffix = '_bu')\n",
    "\n",
    "stats_df = stats_df.dropna()\n",
    "stats_df = stats_df[(stats_df <= 1) & (stats_df >= -1)].dropna()"
   ]
  },
  {
   "cell_type": "code",
   "execution_count": null,
   "id": "2ce9e404",
   "metadata": {},
   "outputs": [
    {
     "data": {
      "text/html": [
       "\n",
       "            <style>\n",
       "                .geemap-dark {\n",
       "                    --jp-widgets-color: white;\n",
       "                    --jp-widgets-label-color: white;\n",
       "                    --jp-ui-font-color1: white;\n",
       "                    --jp-layout-color2: #454545;\n",
       "                    background-color: #383838;\n",
       "                }\n",
       "\n",
       "                .geemap-dark .jupyter-button {\n",
       "                    --jp-layout-color3: #383838;\n",
       "                }\n",
       "\n",
       "                .geemap-colab {\n",
       "                    background-color: var(--colab-primary-surface-color, white);\n",
       "                }\n",
       "\n",
       "                .geemap-colab .jupyter-button {\n",
       "                    --jp-layout-color3: var(--colab-primary-surface-color, white);\n",
       "                }\n",
       "            </style>\n",
       "            "
      ],
      "text/plain": [
       "<IPython.core.display.HTML object>"
      ]
     },
     "metadata": {},
     "output_type": "display_data"
    },
    {
     "ename": "NameError",
     "evalue": "name 's2_stats' is not defined",
     "output_type": "error",
     "traceback": [
      "\u001b[31m---------------------------------------------------------------------------\u001b[39m",
      "\u001b[31mNameError\u001b[39m                                 Traceback (most recent call last)",
      "\u001b[36mCell\u001b[39m\u001b[36m \u001b[39m\u001b[32mIn[15]\u001b[39m\u001b[32m, line 9\u001b[39m\n\u001b[32m      3\u001b[39m \u001b[38;5;66;03m# Assume s2_stats is a DataFrame with columns: 'class_name', 'median', 'mean'\u001b[39;00m\n\u001b[32m      4\u001b[39m \u001b[38;5;66;03m# Plot median and mean NDVI for each class_name\u001b[39;00m\n\u001b[32m      6\u001b[39m fig, ax = plt.subplots(figsize=(\u001b[32m8\u001b[39m, \u001b[32m5\u001b[39m))\n\u001b[32m----> \u001b[39m\u001b[32m9\u001b[39m ax.plot(\u001b[43ms2_stats\u001b[49m.loc[\u001b[33m'\u001b[39m\u001b[33mgreen_roof\u001b[39m\u001b[33m'\u001b[39m][\u001b[33m'\u001b[39m\u001b[33mwavelength_nm\u001b[39m\u001b[33m'\u001b[39m],s2_stats.loc[\u001b[33m'\u001b[39m\u001b[33mgreen_roof\u001b[39m\u001b[33m'\u001b[39m][\u001b[33m'\u001b[39m\u001b[33mmedian\u001b[39m\u001b[33m'\u001b[39m], label =\u001b[33m'\u001b[39m\u001b[33mGreen Roof\u001b[39m\u001b[33m'\u001b[39m, color = \u001b[33m'\u001b[39m\u001b[33mgreen\u001b[39m\u001b[33m'\u001b[39m)\n\u001b[32m     10\u001b[39m ax.plot(s2_stats.loc[\u001b[33m'\u001b[39m\u001b[33mroof\u001b[39m\u001b[33m'\u001b[39m][\u001b[33m'\u001b[39m\u001b[33mwavelength_nm\u001b[39m\u001b[33m'\u001b[39m],s2_stats.loc[\u001b[33m'\u001b[39m\u001b[33mroof\u001b[39m\u001b[33m'\u001b[39m][\u001b[33m'\u001b[39m\u001b[33mmedian\u001b[39m\u001b[33m'\u001b[39m], label =\u001b[33m'\u001b[39m\u001b[33mRoof\u001b[39m\u001b[33m'\u001b[39m, color = \u001b[33m'\u001b[39m\u001b[33mred\u001b[39m\u001b[33m'\u001b[39m)\n\u001b[32m     12\u001b[39m ax.legend()\n",
      "\u001b[31mNameError\u001b[39m: name 's2_stats' is not defined"
     ]
    },
    {
     "data": {
      "image/png": "[encoded data removed]",
      "text/plain": [
       "<Figure size 800x500 with 1 Axes>"
      ]
     },
     "metadata": {},
     "output_type": "display_data"
    }
   ],
   "source": [
    "import matplotlib.pyplot as plt\n",
    "\n",
    "# Assume s2_stats is a DataFrame with columns: 'class_name', 'median', 'mean'\n",
    "# Plot median and mean NDVI for each class_name\n",
    "\n",
    "fig, ax = plt.subplots(figsize=(8, 5))\n",
    "\n",
    "\n",
    "ax.plot(s2_stats.loc['green_roof']['wavelength_nm'],s2_stats.loc['green_roof']['median'], label ='Green Roof', color = 'green')\n",
    "ax.plot(s2_stats.loc['roof']['wavelength_nm'],s2_stats.loc['roof']['median'], label ='Roof', color = 'red')\n",
    "\n",
    "ax.legend()\n",
    "ax.set_xlabel('Wavelength (nm)')\n",
    "ax.set_ylabel('Surface Reflectance')"
   ]
  },
  {
   "cell_type": "code",
   "execution_count": null,
   "id": "19735413",
   "metadata": {},
   "outputs": [
    {
     "data": {
      "text/html": [
       "\n",
       "            <style>\n",
       "                .geemap-dark {\n",
       "                    --jp-widgets-color: white;\n",
       "                    --jp-widgets-label-color: white;\n",
       "                    --jp-ui-font-color1: white;\n",
       "                    --jp-layout-color2: #454545;\n",
       "                    background-color: #383838;\n",
       "                }\n",
       "\n",
       "                .geemap-dark .jupyter-button {\n",
       "                    --jp-layout-color3: #383838;\n",
       "                }\n",
       "\n",
       "                .geemap-colab {\n",
       "                    background-color: var(--colab-primary-surface-color, white);\n",
       "                }\n",
       "\n",
       "                .geemap-colab .jupyter-button {\n",
       "                    --jp-layout-color3: var(--colab-primary-surface-color, white);\n",
       "                }\n",
       "            </style>\n",
       "            "
      ],
      "text/plain": [
       "<IPython.core.display.HTML object>"
      ]
     },
     "metadata": {},
     "output_type": "display_data"
    }
   ],
   "source": [
    "bldg_class[['class_name','geometry']].drop_duplicates('geometry').to_file('data/prc/bldg_class.geojson')"
   ]
  }
 ],
 "metadata": {
  "kernelspec": {
   "display_name": "groof",
   "language": "python",
   "name": "python3"
  },
  "language_info": {
   "codemirror_mode": {
    "name": "ipython",
    "version": 3
   },
   "file_extension": ".py",
   "mimetype": "text/x-python",
   "name": "python",
   "nbconvert_exporter": "python",
   "pygments_lexer": "ipython3",
   "version": "3.13.2"
  }
 },
 "nbformat": 4,
 "nbformat_minor": 5
}
