{
 "cells": [
  {
   "cell_type": "markdown",
   "id": "100d09c1",
   "metadata": {},
   "source": [
    "## Import Libraries"
   ]
  },
  {
   "cell_type": "code",
   "execution_count": 1,
   "id": "14f139ce",
   "metadata": {},
   "outputs": [],
   "source": [
    "import sys\n",
    "sys.path.append('../')\n",
    "\n",
    "from groof.config import * # IMPORTS ALL DIRECTORIES AND FILE PATHS\n",
    "\n",
    "from groof.ee_indices import * \n",
    "import geemap\n",
    "from groof.geo import *\n",
    "from groof.ee_pipeline import *\n",
    "from shapely.geometry import box\n",
    "import geopandas as gpd\n",
    "import ee"
   ]
  },
  {
   "cell_type": "markdown",
   "id": "815094a8",
   "metadata": {},
   "source": [
    "## Get ROI"
   ]
  },
  {
   "cell_type": "code",
   "execution_count": 2,
   "id": "e56c188b",
   "metadata": {},
   "outputs": [
    {
     "data": {
      "text/html": [
       "\n",
       "            <style>\n",
       "                .geemap-dark {\n",
       "                    --jp-widgets-color: white;\n",
       "                    --jp-widgets-label-color: white;\n",
       "                    --jp-ui-font-color1: white;\n",
       "                    --jp-layout-color2: #454545;\n",
       "                    background-color: #383838;\n",
       "                }\n",
       "\n",
       "                .geemap-dark .jupyter-button {\n",
       "                    --jp-layout-color3: #383838;\n",
       "                }\n",
       "\n",
       "                .geemap-colab {\n",
       "                    background-color: var(--colab-primary-surface-color, white);\n",
       "                }\n",
       "\n",
       "                .geemap-colab .jupyter-button {\n",
       "                    --jp-layout-color3: var(--colab-primary-surface-color, white);\n",
       "                }\n",
       "            </style>\n",
       "            "
      ],
      "text/plain": [
       "<IPython.core.display.HTML object>"
      ]
     },
     "metadata": {},
     "output_type": "display_data"
    }
   ],
   "source": [
    "bbox = gpd.read_file(BBOX)\n",
    "bbox_coords = list(bbox.to_crs(4326).total_bounds)\n",
    "utm_crs = bbox.estimate_utm_crs()\n"
   ]
  },
  {
   "cell_type": "markdown",
   "id": "f1581207",
   "metadata": {},
   "source": [
    "## Authenticate GEE"
   ]
  },
  {
   "cell_type": "code",
   "execution_count": 3,
   "id": "401ce0ff",
   "metadata": {},
   "outputs": [
    {
     "data": {
      "text/html": [
       "\n",
       "            <style>\n",
       "                .geemap-dark {\n",
       "                    --jp-widgets-color: white;\n",
       "                    --jp-widgets-label-color: white;\n",
       "                    --jp-ui-font-color1: white;\n",
       "                    --jp-layout-color2: #454545;\n",
       "                    background-color: #383838;\n",
       "                }\n",
       "\n",
       "                .geemap-dark .jupyter-button {\n",
       "                    --jp-layout-color3: #383838;\n",
       "                }\n",
       "\n",
       "                .geemap-colab {\n",
       "                    background-color: var(--colab-primary-surface-color, white);\n",
       "                }\n",
       "\n",
       "                .geemap-colab .jupyter-button {\n",
       "                    --jp-layout-color3: var(--colab-primary-surface-color, white);\n",
       "                }\n",
       "            </style>\n",
       "            "
      ],
      "text/plain": [
       "<IPython.core.display.HTML object>"
      ]
     },
     "metadata": {},
     "output_type": "display_data"
    }
   ],
   "source": [
    "ee.Authenticate()\n",
    "ee.Initialize(project='ee-geoai-medo')"
   ]
  },
  {
   "cell_type": "markdown",
   "id": "22e24c28",
   "metadata": {},
   "source": [
    "# Get Sentinel-2 Data"
   ]
  },
  {
   "cell_type": "code",
   "execution_count": 4,
   "id": "524b5de0",
   "metadata": {},
   "outputs": [
    {
     "data": {
      "text/html": [
       "\n",
       "            <style>\n",
       "                .geemap-dark {\n",
       "                    --jp-widgets-color: white;\n",
       "                    --jp-widgets-label-color: white;\n",
       "                    --jp-ui-font-color1: white;\n",
       "                    --jp-layout-color2: #454545;\n",
       "                    background-color: #383838;\n",
       "                }\n",
       "\n",
       "                .geemap-dark .jupyter-button {\n",
       "                    --jp-layout-color3: #383838;\n",
       "                }\n",
       "\n",
       "                .geemap-colab {\n",
       "                    background-color: var(--colab-primary-surface-color, white);\n",
       "                }\n",
       "\n",
       "                .geemap-colab .jupyter-button {\n",
       "                    --jp-layout-color3: var(--colab-primary-surface-color, white);\n",
       "                }\n",
       "            </style>\n",
       "            "
      ],
      "text/plain": [
       "<IPython.core.display.HTML object>"
      ]
     },
     "metadata": {},
     "output_type": "display_data"
    }
   ],
   "source": [
    "geom = ee.Geometry.Rectangle(bbox_coords)\n",
    "\n",
    "\n",
    "## Fetch Sentinel-2 Image\n",
    "ee_s2.update(dict(bands = S2_BANDS))\n",
    "s2_image = ee_get_s2(ee_s2, geom, start_date='2021-01-01', end_date='2025-12-30', max_cloud=15).map(mask_s2_clouds)\n",
    "s2_image = s2_image.filter(ee.Filter.calendarRange(3,6, 'month')).map(lambda img: img.divide(10000))\n",
    "\n",
    "\n",
    "# Median Image \n",
    "s2_median = s2_image.median().clip(geom)\n",
    "s2_focal = s2_median.focalMedian(1.5, 'square', 'pixels')\n",
    "\n",
    "il_bldg = ee.FeatureCollection('projects/sat-io/open-datasets/ORNL/USA-STRUCTURES/USA_ST_IL')\n",
    "il_bldg = il_bldg.filterBounds(geom)"
   ]
  },
  {
   "cell_type": "markdown",
   "id": "f766fd7e",
   "metadata": {},
   "source": [
    "## Compute Spectral Indices"
   ]
  },
  {
   "cell_type": "code",
   "execution_count": 5,
   "id": "60ba95c3",
   "metadata": {},
   "outputs": [
    {
     "data": {
      "text/html": [
       "\n",
       "            <style>\n",
       "                .geemap-dark {\n",
       "                    --jp-widgets-color: white;\n",
       "                    --jp-widgets-label-color: white;\n",
       "                    --jp-ui-font-color1: white;\n",
       "                    --jp-layout-color2: #454545;\n",
       "                    background-color: #383838;\n",
       "                }\n",
       "\n",
       "                .geemap-dark .jupyter-button {\n",
       "                    --jp-layout-color3: #383838;\n",
       "                }\n",
       "\n",
       "                .geemap-colab {\n",
       "                    background-color: var(--colab-primary-surface-color, white);\n",
       "                }\n",
       "\n",
       "                .geemap-colab .jupyter-button {\n",
       "                    --jp-layout-color3: var(--colab-primary-surface-color, white);\n",
       "                }\n",
       "            </style>\n",
       "            "
      ],
      "text/plain": [
       "<IPython.core.display.HTML object>"
      ]
     },
     "metadata": {},
     "output_type": "display_data"
    }
   ],
   "source": [
    "NIR = s2_median.select('B8')\n",
    "RED = s2_median.select('B4')\n",
    "BLUE = s2_median.select('B2')\n",
    "SWIR = s2_median.select('B11')\n",
    "GREEN = s2_median.select('B2')\n",
    "SWIR2 = s2_median.select('B12')\n",
    "\n",
    "## Normalized Difference Built-up Index\n",
    "ndbi_median = ndbi_ee_s2(s2_median, geom)\n",
    "\n",
    "# Built-up Index (BU)\n",
    "##  NDDBI - NDVI\n",
    "bu_median = bu_ee_s2(s2_median, geom)\n",
    "\n",
    "# ENHANCED VEGETATION INDEX (EVI)\n",
    "evi_median = evi_ee_s2(s2_median, geom)\n",
    "\n",
    "# NORMALIZED DIFFERENCE WATER INDEX\n",
    "## NIR - SWIR / (NIR + SWIR)\n",
    "ndwi_median = ndwi_ee_s2(s2_median,geom)\n",
    "\n",
    "# NDVI\n",
    "ndvi_median = ndvi_ee_s2(s2_median, geom)\n",
    "ndvi_focal = ndvi_median.focalMedian(3, 'square', 'pixels')\n",
    "# NDPI\n",
    "\n",
    "n = NIR.subtract(RED.multiply(ee.Number(0.74)).add(SWIR.multiply(ee.Number(0.26))))\n",
    "d = NIR.add(RED.multiply(ee.Number(0.74)).add(SWIR.multiply(ee.Number(0.26))))\n",
    "\n",
    "ndpi_median =n.divide(d)\n",
    "\n",
    "\n",
    "# BARE SOIL INDEX (BSI)\n",
    "\n",
    "n = RED.add(SWIR).subtract(NIR.add(BLUE))\n",
    "d = RED.add(SWIR).add(NIR.add(BLUE))\n",
    "bsi_median = n.divide(d)\n",
    "\n",
    "# SAVI \n",
    "L = ee.Number(0.5)\n",
    "n = NIR.subtract(RED).multiply(ee.Number(1).add(L))\n",
    "d = NIR.add(RED).add(L)\n",
    "savi_median = n.divide(d)\n",
    "\n",
    "\n",
    "# MNDWI\n",
    "mndwi_median = GREEN.subtract(SWIR).divide(GREEN.add(SWIR))\n",
    "\n",
    "#IBI\n",
    "ibi_median = ndbi_median.subtract(\n",
    "                    savi_median.add(\n",
    "                        mndwi_median).divide(ee.Number(2))\n",
    "                    ).divide(\n",
    "                        ndbi_median.add(\n",
    "                            savi_median.add(\n",
    "                             mndwi_median).divide(ee.Number(2))\n",
    "                        )\n",
    "\n",
    "                    )\n",
    "\n",
    "\n",
    "# New Built-up Index\n",
    "nbi_median = (RED.multiply(SWIR)).divide(NIR)\n",
    "\n",
    "# Modified Built-up Index (MBI)\n",
    "mbi_median = SWIR.add(RED).subtract(NIR).divide(SWIR.add(RED).add(NIR).subtract(SWIR2))\n",
    "\n",
    "# Enhanced Normalized Difference Impervious Surfaces Index (ENDISI)\n",
    "## ENDISI=(SWIR1+NIR−Blue)/(SWIR1+NIR+Blue)\n",
    "endisi_median = SWIR.add(NIR).subtract(BLUE).divide(SWIR.add(NIR).add(BLUE))"
   ]
  },
  {
   "cell_type": "markdown",
   "id": "3585b1ee",
   "metadata": {},
   "source": [
    "## Map Spectral Indices and Sentinel-2 Image"
   ]
  },
  {
   "cell_type": "code",
   "execution_count": 6,
   "id": "577de80a",
   "metadata": {},
   "outputs": [
    {
     "data": {
      "text/html": [
       "\n",
       "            <style>\n",
       "                .geemap-dark {\n",
       "                    --jp-widgets-color: white;\n",
       "                    --jp-widgets-label-color: white;\n",
       "                    --jp-ui-font-color1: white;\n",
       "                    --jp-layout-color2: #454545;\n",
       "                    background-color: #383838;\n",
       "                }\n",
       "\n",
       "                .geemap-dark .jupyter-button {\n",
       "                    --jp-layout-color3: #383838;\n",
       "                }\n",
       "\n",
       "                .geemap-colab {\n",
       "                    background-color: var(--colab-primary-surface-color, white);\n",
       "                }\n",
       "\n",
       "                .geemap-colab .jupyter-button {\n",
       "                    --jp-layout-color3: var(--colab-primary-surface-color, white);\n",
       "                }\n",
       "            </style>\n",
       "            "
      ],
      "text/plain": [
       "<IPython.core.display.HTML object>"
      ]
     },
     "metadata": {},
     "output_type": "display_data"
    },
    {
     "data": {
      "text/plain": [
       "{'EVI_max': 1.2967286982937627, 'EVI_min': -0.7408539549421445}"
      ]
     },
     "execution_count": 6,
     "metadata": {},
     "output_type": "execute_result"
    }
   ],
   "source": [
    "evi_minmax = evi_median.reduceRegion(reducer = ee.Reducer.minMax(), geometry= geom, scale =10).getInfo()\n",
    "evi_minmax\n"
   ]
  },
  {
   "cell_type": "code",
   "execution_count": 7,
   "id": "f6c7d4b3",
   "metadata": {},
   "outputs": [
    {
     "data": {
      "text/html": [
       "\n",
       "            <style>\n",
       "                .geemap-dark {\n",
       "                    --jp-widgets-color: white;\n",
       "                    --jp-widgets-label-color: white;\n",
       "                    --jp-ui-font-color1: white;\n",
       "                    --jp-layout-color2: #454545;\n",
       "                    background-color: #383838;\n",
       "                }\n",
       "\n",
       "                .geemap-dark .jupyter-button {\n",
       "                    --jp-layout-color3: #383838;\n",
       "                }\n",
       "\n",
       "                .geemap-colab {\n",
       "                    background-color: var(--colab-primary-surface-color, white);\n",
       "                }\n",
       "\n",
       "                .geemap-colab .jupyter-button {\n",
       "                    --jp-layout-color3: var(--colab-primary-surface-color, white);\n",
       "                }\n",
       "            </style>\n",
       "            "
      ],
      "text/plain": [
       "<IPython.core.display.HTML object>"
      ]
     },
     "metadata": {},
     "output_type": "display_data"
    },
    {
     "data": {
      "application/vnd.jupyter.widget-view+json": {
       "model_id": "096b5d39c3ca44d5a7b908cb4cb6483f",
       "version_major": 2,
       "version_minor": 0
      },
      "text/plain": [
       "Map(center=[0, 0], controls=(WidgetControl(options=['position', 'transparent_bg'], widget=SearchDataGUI(childr…"
      ]
     },
     "execution_count": 7,
     "metadata": {},
     "output_type": "execute_result"
    }
   ],
   "source": [
    "# Initialize Map\n",
    "m = geemap.Map()\n",
    "m.add_basemap('SATELLITE')  # or 'Esri.WorldImagery'\n",
    "m.centerObject(geom)\n",
    "\n",
    "# SENTINL-2 RGB\n",
    "m.addLayer(s2_median, dict(min = 0, max = .3, bands =['B4', 'B3', 'B2']) , 'Sentinel-2 RGB')\n",
    "\n",
    "\n",
    "# INDICES\n",
    "# m.addLayer(evi_median, dict(min = evi_minmax['EVI_min'], max = evi_minmax['EVI_max'], palette = ['red','yellow', 'green']) , 'EVI Median')\n",
    "m.addLayer(ndbi_median, dict(min = -1, max = 1, palette = ['black','yellow', 'red']) , 'NDBI Median')\n",
    "# m.addLayer(ibi_median, dict(min = -1, max = 1, palette = ['black','yellow', 'red']) , 'IBI Median')\n",
    "# m.addLayer(ndvi_median, dict(min = -1, max = 1, palette = ['red','yellow', 'green']) , 'NDVI Median')\n",
    "# m.addLayer(ndvi_focal, dict(min = -1, max = 1, palette = ['red','yellow', 'green']) , 'NDVI Focal')\n",
    "m.addLayer(endisi_median, dict(min = -1, max = 1, palette = ['black','yellow', 'red']) , 'ENDISI Median')\n",
    "m.addLayer(mbi_median, dict(min = -1, max = 1, palette = ['black','yellow', 'red']) , 'MBI Median')\n",
    "m.addLayer(nbi_median, dict(min = -1, max = 1, palette = ['black','yellow', 'red']) , 'NBI Median')\n",
    "\n",
    "# m.addLayer(ndpi_median, dict(min = -1, max = 1, palette = ['red','yellow', 'green']) , 'NDPI Median')\n",
    "# m.addLayer(bsi_median, dict(min = -1, max = 1, palette = ['red','yellow', 'green']) , 'BSI Median')\n",
    "# m.addLayer(savi_median, dict(min = -1, max = 1, palette = ['red','yellow', 'green']) , 'SAVI Median')\n",
    "\n",
    "# m.addLayer(il_bldg, dict(color = 'red', fill = None), 'Building Footprints')\n",
    "m"
   ]
  },
  {
   "cell_type": "markdown",
   "id": "e2d2d0ca",
   "metadata": {},
   "source": [
    "# Download Layers"
   ]
  },
  {
   "cell_type": "markdown",
   "id": "c12ac839",
   "metadata": {},
   "source": [
    "### Sentinel-2"
   ]
  },
  {
   "cell_type": "code",
   "execution_count": 8,
   "id": "d5de9ba9",
   "metadata": {},
   "outputs": [
    {
     "data": {
      "text/html": [
       "\n",
       "            <style>\n",
       "                .geemap-dark {\n",
       "                    --jp-widgets-color: white;\n",
       "                    --jp-widgets-label-color: white;\n",
       "                    --jp-ui-font-color1: white;\n",
       "                    --jp-layout-color2: #454545;\n",
       "                    background-color: #383838;\n",
       "                }\n",
       "\n",
       "                .geemap-dark .jupyter-button {\n",
       "                    --jp-layout-color3: #383838;\n",
       "                }\n",
       "\n",
       "                .geemap-colab {\n",
       "                    background-color: var(--colab-primary-surface-color, white);\n",
       "                }\n",
       "\n",
       "                .geemap-colab .jupyter-button {\n",
       "                    --jp-layout-color3: var(--colab-primary-surface-color, white);\n",
       "                }\n",
       "            </style>\n",
       "            "
      ],
      "text/plain": [
       "<IPython.core.display.HTML object>"
      ]
     },
     "metadata": {},
     "output_type": "display_data"
    }
   ],
   "source": [
    "# geemap.download_ee_image(\n",
    "#     s2_median,\n",
    "#     filename=S2_MEDIAN,\n",
    "#     region =geom,\n",
    "#     crs=str(utm_crs),\n",
    "#     scale= 10\n",
    "# )"
   ]
  },
  {
   "cell_type": "markdown",
   "id": "bd934695",
   "metadata": {},
   "source": [
    "### Spectral Indices"
   ]
  },
  {
   "cell_type": "code",
   "execution_count": 9,
   "id": "a37a5906",
   "metadata": {},
   "outputs": [
    {
     "data": {
      "text/html": [
       "\n",
       "            <style>\n",
       "                .geemap-dark {\n",
       "                    --jp-widgets-color: white;\n",
       "                    --jp-widgets-label-color: white;\n",
       "                    --jp-ui-font-color1: white;\n",
       "                    --jp-layout-color2: #454545;\n",
       "                    background-color: #383838;\n",
       "                }\n",
       "\n",
       "                .geemap-dark .jupyter-button {\n",
       "                    --jp-layout-color3: #383838;\n",
       "                }\n",
       "\n",
       "                .geemap-colab {\n",
       "                    background-color: var(--colab-primary-surface-color, white);\n",
       "                }\n",
       "\n",
       "                .geemap-colab .jupyter-button {\n",
       "                    --jp-layout-color3: var(--colab-primary-surface-color, white);\n",
       "                }\n",
       "            </style>\n",
       "            "
      ],
      "text/plain": [
       "<IPython.core.display.HTML object>"
      ]
     },
     "metadata": {},
     "output_type": "display_data"
    },
    {
     "data": {
      "application/vnd.jupyter.widget-view+json": {
       "model_id": "8da77255eee946b18c314991266dc879",
       "version_major": 2,
       "version_minor": 0
      },
      "text/plain": [
       "mndwi_median.tif: |          | 0.00/1.02M (raw) [  0.0%] in 00:00 (eta:     ?)"
      ]
     },
     "metadata": {},
     "output_type": "display_data"
    },
    {
     "name": "stderr",
     "output_type": "stream",
     "text": [
      "There is no STAC entry for: None\n"
     ]
    },
    {
     "data": {
      "application/vnd.jupyter.widget-view+json": {
       "model_id": "2913edf96b694fb8ae053530ce3f8b56",
       "version_major": 2,
       "version_minor": 0
      },
      "text/plain": [
       "ibi_median.tif: |          | 0.00/2.04M (raw) [  0.0%] in 00:00 (eta:     ?)"
      ]
     },
     "metadata": {},
     "output_type": "display_data"
    },
    {
     "data": {
      "application/vnd.jupyter.widget-view+json": {
       "model_id": "1d98cec920a64f1190a9c66047c4a4f0",
       "version_major": 2,
       "version_minor": 0
      },
      "text/plain": [
       "nbi_median.tif: |          | 0.00/1.02M (raw) [  0.0%] in 00:00 (eta:     ?)"
      ]
     },
     "metadata": {},
     "output_type": "display_data"
    },
    {
     "data": {
      "application/vnd.jupyter.widget-view+json": {
       "model_id": "f6b70a2dd9b54a469aabe10d6696bc48",
       "version_major": 2,
       "version_minor": 0
      },
      "text/plain": [
       "mbi_median.tif: |          | 0.00/1.02M (raw) [  0.0%] in 00:00 (eta:     ?)"
      ]
     },
     "metadata": {},
     "output_type": "display_data"
    },
    {
     "data": {
      "application/vnd.jupyter.widget-view+json": {
       "model_id": "a0b6609a5bf44a5e8165a039b6f1e292",
       "version_major": 2,
       "version_minor": 0
      },
      "text/plain": [
       "endisi_median.tif: |          | 0.00/1.02M (raw) [  0.0%] in 00:00 (eta:     ?)"
      ]
     },
     "metadata": {},
     "output_type": "display_data"
    }
   ],
   "source": [
    "\n",
    "# geemap.download_ee_image(\n",
    "#     ndvi_median,\n",
    "#     filename=NDVI_MEDIAN,\n",
    "#     region =geom,\n",
    "#     crs=str(utm_crs),\n",
    "#     scale= 10\n",
    "# )\n",
    "\n",
    "\n",
    "# geemap.download_ee_image(\n",
    "#     evi_median,\n",
    "#     filename=EVI_MEDIAN,\n",
    "#     region =geom,\n",
    "#     crs=str(utm_crs),\n",
    "#     scale= 10,\n",
    "#     dtype='float32'\n",
    "# )\n",
    "\n",
    "# geemap.download_ee_image(\n",
    "#     bu_median,\n",
    "#     filename=BU_MEDIAN,\n",
    "#     region =geom,\n",
    "#     crs=str(utm_crs),\n",
    "#     scale= 10\n",
    "# )\n",
    "\n",
    "\n",
    "# geemap.download_ee_image(\n",
    "#     ndwi_median,\n",
    "#     filename=NDWI_MEDIAN,\n",
    "#     region =geom,\n",
    "#     crs=str(utm_crs),\n",
    "#     scale= 10\n",
    "# )\n",
    "\n",
    "\n",
    "# geemap.download_ee_image(\n",
    "#     ndpi_median,\n",
    "#     filename=NDPI_MEDIAN,\n",
    "#     region =geom,\n",
    "#     crs=str(utm_crs),\n",
    "#     scale= 10\n",
    "# )\n",
    "\n",
    "\n",
    "# geemap.download_ee_image(\n",
    "#     bsi_median,\n",
    "#     filename=BSI_MEDIAN,\n",
    "#     region =geom,\n",
    "#     crs=str(utm_crs),\n",
    "#     scale= 10\n",
    "# )\n",
    "\n",
    "\n",
    "# geemap.download_ee_image(\n",
    "#     savi_median,\n",
    "#     filename=SAVI_MEDIAN,\n",
    "#     region =geom,\n",
    "#     crs=str(utm_crs),\n",
    "#     scale= 10\n",
    "# )\n",
    "\n",
    "\n",
    "geemap.download_ee_image(\n",
    "    mndwi_median,\n",
    "    filename=MNDWI_MEDIAN,\n",
    "    region =geom,\n",
    "    crs=str(utm_crs),\n",
    "    scale= 10\n",
    ")\n",
    "\n",
    "geemap.download_ee_image(\n",
    "    ibi_median,\n",
    "    filename=IBI_MEDIAN,\n",
    "    region =geom,\n",
    "    crs=str(utm_crs),\n",
    "    scale= 10\n",
    ")\n",
    "\n",
    "geemap.download_ee_image(\n",
    "    nbi_median,\n",
    "    filename=NBI_MEDIAN,\n",
    "    region =geom,\n",
    "    crs=str(utm_crs),\n",
    "    scale= 10\n",
    ")\n",
    "\n",
    "geemap.download_ee_image(\n",
    "    mbi_median,\n",
    "    filename=MBI_MEDIAN,\n",
    "    region =geom,\n",
    "    crs=str(utm_crs),\n",
    "    scale= 10\n",
    ")\n",
    "\n",
    "\n",
    "geemap.download_ee_image(\n",
    "    endisi_median,\n",
    "    filename=ENDISI_MEDIAN,\n",
    "    region =geom,\n",
    "    crs=str(utm_crs),\n",
    "    scale= 10\n",
    ")\n"
   ]
  },
  {
   "cell_type": "markdown",
   "id": "ab9427c2",
   "metadata": {},
   "source": [
    "###  Buildings Layer"
   ]
  },
  {
   "cell_type": "code",
   "execution_count": 10,
   "id": "f328cb83",
   "metadata": {},
   "outputs": [
    {
     "data": {
      "text/html": [
       "\n",
       "            <style>\n",
       "                .geemap-dark {\n",
       "                    --jp-widgets-color: white;\n",
       "                    --jp-widgets-label-color: white;\n",
       "                    --jp-ui-font-color1: white;\n",
       "                    --jp-layout-color2: #454545;\n",
       "                    background-color: #383838;\n",
       "                }\n",
       "\n",
       "                .geemap-dark .jupyter-button {\n",
       "                    --jp-layout-color3: #383838;\n",
       "                }\n",
       "\n",
       "                .geemap-colab {\n",
       "                    background-color: var(--colab-primary-surface-color, white);\n",
       "                }\n",
       "\n",
       "                .geemap-colab .jupyter-button {\n",
       "                    --jp-layout-color3: var(--colab-primary-surface-color, white);\n",
       "                }\n",
       "            </style>\n",
       "            "
      ],
      "text/plain": [
       "<IPython.core.display.HTML object>"
      ]
     },
     "metadata": {},
     "output_type": "display_data"
    }
   ],
   "source": [
    "# geemap.ee_to_geojson(il_bldg, filename=BLDG_FP)"
   ]
  }
 ],
 "metadata": {
  "kernelspec": {
   "display_name": "groof",
   "language": "python",
   "name": "python3"
  },
  "language_info": {
   "codemirror_mode": {
    "name": "ipython",
    "version": 3
   },
   "file_extension": ".py",
   "mimetype": "text/x-python",
   "name": "python",
   "nbconvert_exporter": "python",
   "pygments_lexer": "ipython3",
   "version": "3.13.2"
  }
 },
 "nbformat": 4,
 "nbformat_minor": 5
}
