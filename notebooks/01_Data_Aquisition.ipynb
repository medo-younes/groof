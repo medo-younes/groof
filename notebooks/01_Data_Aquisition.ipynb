{
 "cells": [
  {
   "cell_type": "markdown",
   "id": "100d09c1",
   "metadata": {},
   "source": [
    "## Import Libraries"
   ]
  },
  {
   "cell_type": "code",
   "execution_count": 1,
   "id": "14f139ce",
   "metadata": {},
   "outputs": [],
   "source": [
    "import sys\n",
    "sys.path.append('../')\n",
    "\n",
    "from groof.config import * # IMPORTS ALL DIRECTORIES AND FILE PATHS\n",
    "\n",
    "from groof.ee_indices import * \n",
    "import geemap\n",
    "from geo import *\n",
    "from ee_pipeline import *\n",
    "from shapely.geometry import box\n",
    "import geopandas as gpd\n",
    "import ee"
   ]
  },
  {
   "cell_type": "markdown",
   "id": "815094a8",
   "metadata": {},
   "source": [
    "## Get ROI"
   ]
  },
  {
   "cell_type": "code",
   "execution_count": 2,
   "id": "e56c188b",
   "metadata": {},
   "outputs": [
    {
     "data": {
      "text/html": [
       "\n",
       "            <style>\n",
       "                .geemap-dark {\n",
       "                    --jp-widgets-color: white;\n",
       "                    --jp-widgets-label-color: white;\n",
       "                    --jp-ui-font-color1: white;\n",
       "                    --jp-layout-color2: #454545;\n",
       "                    background-color: #383838;\n",
       "                }\n",
       "\n",
       "                .geemap-dark .jupyter-button {\n",
       "                    --jp-layout-color3: #383838;\n",
       "                }\n",
       "\n",
       "                .geemap-colab {\n",
       "                    background-color: var(--colab-primary-surface-color, white);\n",
       "                }\n",
       "\n",
       "                .geemap-colab .jupyter-button {\n",
       "                    --jp-layout-color3: var(--colab-primary-surface-color, white);\n",
       "                }\n",
       "            </style>\n",
       "            "
      ],
      "text/plain": [
       "<IPython.core.display.HTML object>"
      ]
     },
     "metadata": {},
     "output_type": "display_data"
    }
   ],
   "source": [
    "bbox = gpd.read_file(BBOX)\n",
    "bbox_coords = list(bbox.to_crs(4326).total_bounds)\n",
    "utm_crs = bbox.estimate_utm_crs()\n"
   ]
  },
  {
   "cell_type": "markdown",
   "id": "f1581207",
   "metadata": {},
   "source": [
    "## Authenticate GEE"
   ]
  },
  {
   "cell_type": "code",
   "execution_count": 3,
   "id": "401ce0ff",
   "metadata": {},
   "outputs": [
    {
     "data": {
      "text/html": [
       "\n",
       "            <style>\n",
       "                .geemap-dark {\n",
       "                    --jp-widgets-color: white;\n",
       "                    --jp-widgets-label-color: white;\n",
       "                    --jp-ui-font-color1: white;\n",
       "                    --jp-layout-color2: #454545;\n",
       "                    background-color: #383838;\n",
       "                }\n",
       "\n",
       "                .geemap-dark .jupyter-button {\n",
       "                    --jp-layout-color3: #383838;\n",
       "                }\n",
       "\n",
       "                .geemap-colab {\n",
       "                    background-color: var(--colab-primary-surface-color, white);\n",
       "                }\n",
       "\n",
       "                .geemap-colab .jupyter-button {\n",
       "                    --jp-layout-color3: var(--colab-primary-surface-color, white);\n",
       "                }\n",
       "            </style>\n",
       "            "
      ],
      "text/plain": [
       "<IPython.core.display.HTML object>"
      ]
     },
     "metadata": {},
     "output_type": "display_data"
    }
   ],
   "source": [
    "ee.Authenticate()\n",
    "ee.Initialize(project='ee-geoai-medo')"
   ]
  },
  {
   "cell_type": "markdown",
   "id": "22e24c28",
   "metadata": {},
   "source": [
    "# Get Sentinel-2 Data"
   ]
  },
  {
   "cell_type": "code",
   "execution_count": 4,
   "id": "5174d270",
   "metadata": {},
   "outputs": [
    {
     "data": {
      "text/html": [
       "\n",
       "            <style>\n",
       "                .geemap-dark {\n",
       "                    --jp-widgets-color: white;\n",
       "                    --jp-widgets-label-color: white;\n",
       "                    --jp-ui-font-color1: white;\n",
       "                    --jp-layout-color2: #454545;\n",
       "                    background-color: #383838;\n",
       "                }\n",
       "\n",
       "                .geemap-dark .jupyter-button {\n",
       "                    --jp-layout-color3: #383838;\n",
       "                }\n",
       "\n",
       "                .geemap-colab {\n",
       "                    background-color: var(--colab-primary-surface-color, white);\n",
       "                }\n",
       "\n",
       "                .geemap-colab .jupyter-button {\n",
       "                    --jp-layout-color3: var(--colab-primary-surface-color, white);\n",
       "                }\n",
       "            </style>\n",
       "            "
      ],
      "text/plain": [
       "<IPython.core.display.HTML object>"
      ]
     },
     "metadata": {},
     "output_type": "display_data"
    }
   ],
   "source": [
    "def mask_s2_clouds(image):\n",
    "    # Sentinel-2 QA60 band flags:\n",
    "    # Bit 10: clouds\n",
    "    # Bit 11: cirrus\n",
    "    qa = image.select('QA60')\n",
    "\n",
    "    # Create bitmasks for clouds and cirrus\n",
    "    cloud_bit_mask = 1 << 10\n",
    "    cirrus_bit_mask = 1 << 11\n",
    "\n",
    "    # Both flags should be set to 0 (i.e., no cloud or cirrus)\n",
    "    mask = qa.bitwiseAnd(cloud_bit_mask).eq(0).And(\n",
    "           qa.bitwiseAnd(cirrus_bit_mask).eq(0))\n",
    "\n",
    "    # Return masked and scaled image\n",
    "    return image.updateMask(mask).copyProperties(image, [\"system:time_start\"])\n",
    "\n",
    "# def percentile_clipping(collection, lower=5, upper=95):\n",
    "    # Compute lower and upper percentiles\n",
    "    \n",
    "\n",
    "def mask_outliers(img):\n",
    "    low = img.reduce(ee.Reducer.percentile([1]))\n",
    "    high = img.reduce(ee.Reducer.percentile([95]))\n",
    "    return img.updateMask(\n",
    "        img.gte(low).And(img.lte(high))\n",
    "    )\n",
    "\n",
    "    # return collection.map(mask_outliers)"
   ]
  },
  {
   "cell_type": "code",
   "execution_count": 5,
   "id": "524b5de0",
   "metadata": {},
   "outputs": [
    {
     "data": {
      "text/html": [
       "\n",
       "            <style>\n",
       "                .geemap-dark {\n",
       "                    --jp-widgets-color: white;\n",
       "                    --jp-widgets-label-color: white;\n",
       "                    --jp-ui-font-color1: white;\n",
       "                    --jp-layout-color2: #454545;\n",
       "                    background-color: #383838;\n",
       "                }\n",
       "\n",
       "                .geemap-dark .jupyter-button {\n",
       "                    --jp-layout-color3: #383838;\n",
       "                }\n",
       "\n",
       "                .geemap-colab {\n",
       "                    background-color: var(--colab-primary-surface-color, white);\n",
       "                }\n",
       "\n",
       "                .geemap-colab .jupyter-button {\n",
       "                    --jp-layout-color3: var(--colab-primary-surface-color, white);\n",
       "                }\n",
       "            </style>\n",
       "            "
      ],
      "text/plain": [
       "<IPython.core.display.HTML object>"
      ]
     },
     "metadata": {},
     "output_type": "display_data"
    }
   ],
   "source": [
    "geom = ee.Geometry.Rectangle(bbox_coords)\n",
    "\n",
    "# dsm = ee_read(\"JAXA/ALOS/AW3D30/V4_1\").mean().select('DSM').clip(geom)\n",
    "ee_s2.update(dict(bands = S2_BANDS))\n",
    "\n",
    "s2_image = ee_get_s2(ee_s2, geom, start_date='2021-01-01', end_date='2025-12-30', max_cloud=15).map(mask_s2_clouds)\n",
    "s2_image = s2_image.filter(ee.Filter.calendarRange(3,6, 'month')).map(lambda img: img.divide(10000))\n",
    "\n",
    "s2_mosaic = s2_image.mosaic().clip(geom)\n",
    "s2_median = s2_image.median().clip(geom)\n",
    "# s2 = s2_median.updateMask(s2_median.lte(1)).updateMask(s2_median.gte(0))\n",
    "\n",
    "il_bldg = ee.FeatureCollection('projects/sat-io/open-datasets/ORNL/USA-STRUCTURES/USA_ST_IL')\n",
    "il_bldg = il_bldg.filterBounds(geom)"
   ]
  },
  {
   "cell_type": "markdown",
   "id": "f766fd7e",
   "metadata": {},
   "source": [
    "## Compute Spectral Indices"
   ]
  },
  {
   "cell_type": "code",
   "execution_count": 6,
   "id": "60ba95c3",
   "metadata": {},
   "outputs": [
    {
     "data": {
      "text/html": [
       "\n",
       "            <style>\n",
       "                .geemap-dark {\n",
       "                    --jp-widgets-color: white;\n",
       "                    --jp-widgets-label-color: white;\n",
       "                    --jp-ui-font-color1: white;\n",
       "                    --jp-layout-color2: #454545;\n",
       "                    background-color: #383838;\n",
       "                }\n",
       "\n",
       "                .geemap-dark .jupyter-button {\n",
       "                    --jp-layout-color3: #383838;\n",
       "                }\n",
       "\n",
       "                .geemap-colab {\n",
       "                    background-color: var(--colab-primary-surface-color, white);\n",
       "                }\n",
       "\n",
       "                .geemap-colab .jupyter-button {\n",
       "                    --jp-layout-color3: var(--colab-primary-surface-color, white);\n",
       "                }\n",
       "            </style>\n",
       "            "
      ],
      "text/plain": [
       "<IPython.core.display.HTML object>"
      ]
     },
     "metadata": {},
     "output_type": "display_data"
    }
   ],
   "source": [
    "# Built-up Index (BU)\n",
    "##  NDVI - NDBI\n",
    "bu_median = bu_ee_s2(s2_median, geom)\n",
    "\n",
    "# ENHANCED VEGETATION INDEX (EVI)\n",
    "evi_median = evi_ee_s2(s2_median, geom)\n",
    "\n",
    "# NORMALIZED DIFFERENCE WATER INDEX\n",
    "## NIR - SWIR / (NIR + SWIR)\n",
    "ndwi_median = ndwi_ee_s2(s2_median,geom)\n",
    "\n",
    "# NDVI\n",
    "ndvi_median = ndvi_ee_s2(s2_median, geom)\n",
    "\n",
    "# NDPI\n",
    "NIR = s2_median.select('B8')\n",
    "RED = s2_median.select('B4')\n",
    "SWIR = s2_median.select('B11')\n",
    "\n",
    "n = NIR.subtract(RED.multiply(ee.Number(0.74)).add(SWIR.multiply(ee.Number(0.26))))\n",
    "d = NIR.add(RED.multiply(ee.Number(0.74)).add(SWIR.multiply(ee.Number(0.26))))\n",
    "\n",
    "ndpi_median =n.divide(d)"
   ]
  },
  {
   "cell_type": "markdown",
   "id": "3585b1ee",
   "metadata": {},
   "source": [
    "## Map Spectral Indices and Sentinel-2 Image"
   ]
  },
  {
   "cell_type": "code",
   "execution_count": 7,
   "id": "577de80a",
   "metadata": {},
   "outputs": [
    {
     "data": {
      "text/html": [
       "\n",
       "            <style>\n",
       "                .geemap-dark {\n",
       "                    --jp-widgets-color: white;\n",
       "                    --jp-widgets-label-color: white;\n",
       "                    --jp-ui-font-color1: white;\n",
       "                    --jp-layout-color2: #454545;\n",
       "                    background-color: #383838;\n",
       "                }\n",
       "\n",
       "                .geemap-dark .jupyter-button {\n",
       "                    --jp-layout-color3: #383838;\n",
       "                }\n",
       "\n",
       "                .geemap-colab {\n",
       "                    background-color: var(--colab-primary-surface-color, white);\n",
       "                }\n",
       "\n",
       "                .geemap-colab .jupyter-button {\n",
       "                    --jp-layout-color3: var(--colab-primary-surface-color, white);\n",
       "                }\n",
       "            </style>\n",
       "            "
      ],
      "text/plain": [
       "<IPython.core.display.HTML object>"
      ]
     },
     "metadata": {},
     "output_type": "display_data"
    },
    {
     "data": {
      "text/plain": [
       "{'EVI_max': 1.2967286982937627, 'EVI_min': -0.7408539549421445}"
      ]
     },
     "execution_count": 7,
     "metadata": {},
     "output_type": "execute_result"
    }
   ],
   "source": [
    "evi_minmax = evi_median.reduceRegion(reducer = ee.Reducer.minMax(), geometry= geom, scale =10).getInfo()\n",
    "evi_minmax\n"
   ]
  },
  {
   "cell_type": "code",
   "execution_count": 8,
   "id": "f6c7d4b3",
   "metadata": {},
   "outputs": [
    {
     "data": {
      "text/html": [
       "\n",
       "            <style>\n",
       "                .geemap-dark {\n",
       "                    --jp-widgets-color: white;\n",
       "                    --jp-widgets-label-color: white;\n",
       "                    --jp-ui-font-color1: white;\n",
       "                    --jp-layout-color2: #454545;\n",
       "                    background-color: #383838;\n",
       "                }\n",
       "\n",
       "                .geemap-dark .jupyter-button {\n",
       "                    --jp-layout-color3: #383838;\n",
       "                }\n",
       "\n",
       "                .geemap-colab {\n",
       "                    background-color: var(--colab-primary-surface-color, white);\n",
       "                }\n",
       "\n",
       "                .geemap-colab .jupyter-button {\n",
       "                    --jp-layout-color3: var(--colab-primary-surface-color, white);\n",
       "                }\n",
       "            </style>\n",
       "            "
      ],
      "text/plain": [
       "<IPython.core.display.HTML object>"
      ]
     },
     "metadata": {},
     "output_type": "display_data"
    },
    {
     "data": {
      "application/vnd.jupyter.widget-view+json": {
       "model_id": "5659be1a2778476a8184ddca821cc97a",
       "version_major": 2,
       "version_minor": 0
      },
      "text/plain": [
       "Map(center=[0, 0], controls=(WidgetControl(options=['position', 'transparent_bg'], widget=SearchDataGUI(childr…"
      ]
     },
     "execution_count": 8,
     "metadata": {},
     "output_type": "execute_result"
    }
   ],
   "source": [
    "# Initialize Map\n",
    "m = geemap.Map()\n",
    "m.add_basemap('SATELLITE')  # or 'Esri.WorldImagery'\n",
    "m.centerObject(geom)\n",
    "\n",
    "# SENTINL-2 RGB\n",
    "m.addLayer(s2_median, dict(min = 0, max = .3, bands =['B4', 'B3', 'B2']) , 'Sentinel-2 RGB')\n",
    "\n",
    "# INDICES\n",
    "m.addLayer(evi_median, dict(min = evi_minmax['EVI_min'], max = evi_minmax['EVI_max'], palette = ['red','yellow', 'green']) , 'EVI Median')\n",
    "# m.addLayer(bu_median, dict(min = -1, max = 1, palette = ['blue','yellow', 'red']) , 'BU Median')\n",
    "# m.addLayer(ndwi_median, dict(min = -1, max = 1, palette = ['red','yellow', 'blue']) , 'NDWI Median')\n",
    "m.addLayer(ndvi_median, dict(min = -1, max = 1, palette = ['red','yellow', 'green']) , 'NDVI Median')\n",
    "m.addLayer(ndpi_median, dict(min = -1, max = 1, palette = ['red','yellow', 'green']) , 'NDPI Median')\n",
    "# Add Buildings Layer\n",
    "# m.addLayer(il_bldg, dict(color = 'red', fill = None), 'Building Footprints')\n",
    "m"
   ]
  },
  {
   "cell_type": "markdown",
   "id": "e2d2d0ca",
   "metadata": {},
   "source": [
    "# Download Layers"
   ]
  },
  {
   "cell_type": "markdown",
   "id": "c12ac839",
   "metadata": {},
   "source": [
    "### Sentinel-2"
   ]
  },
  {
   "cell_type": "code",
   "execution_count": null,
   "id": "d5de9ba9",
   "metadata": {},
   "outputs": [
    {
     "data": {
      "text/html": [
       "\n",
       "            <style>\n",
       "                .geemap-dark {\n",
       "                    --jp-widgets-color: white;\n",
       "                    --jp-widgets-label-color: white;\n",
       "                    --jp-ui-font-color1: white;\n",
       "                    --jp-layout-color2: #454545;\n",
       "                    background-color: #383838;\n",
       "                }\n",
       "\n",
       "                .geemap-dark .jupyter-button {\n",
       "                    --jp-layout-color3: #383838;\n",
       "                }\n",
       "\n",
       "                .geemap-colab {\n",
       "                    background-color: var(--colab-primary-surface-color, white);\n",
       "                }\n",
       "\n",
       "                .geemap-colab .jupyter-button {\n",
       "                    --jp-layout-color3: var(--colab-primary-surface-color, white);\n",
       "                }\n",
       "            </style>\n",
       "            "
      ],
      "text/plain": [
       "<IPython.core.display.HTML object>"
      ]
     },
     "metadata": {},
     "output_type": "display_data"
    }
   ],
   "source": [
    "geemap.download_ee_image(\n",
    "    s2_median,\n",
    "    filename=S2_MEDIAN,\n",
    "    region =geom,\n",
    "    crs=str(utm_crs),\n",
    "    scale= 10\n",
    ")"
   ]
  },
  {
   "cell_type": "markdown",
   "id": "bd934695",
   "metadata": {},
   "source": [
    "### Spectral Indices"
   ]
  },
  {
   "cell_type": "code",
   "execution_count": null,
   "id": "a37a5906",
   "metadata": {},
   "outputs": [
    {
     "data": {
      "text/html": [
       "\n",
       "            <style>\n",
       "                .geemap-dark {\n",
       "                    --jp-widgets-color: white;\n",
       "                    --jp-widgets-label-color: white;\n",
       "                    --jp-ui-font-color1: white;\n",
       "                    --jp-layout-color2: #454545;\n",
       "                    background-color: #383838;\n",
       "                }\n",
       "\n",
       "                .geemap-dark .jupyter-button {\n",
       "                    --jp-layout-color3: #383838;\n",
       "                }\n",
       "\n",
       "                .geemap-colab {\n",
       "                    background-color: var(--colab-primary-surface-color, white);\n",
       "                }\n",
       "\n",
       "                .geemap-colab .jupyter-button {\n",
       "                    --jp-layout-color3: var(--colab-primary-surface-color, white);\n",
       "                }\n",
       "            </style>\n",
       "            "
      ],
      "text/plain": [
       "<IPython.core.display.HTML object>"
      ]
     },
     "metadata": {},
     "output_type": "display_data"
    },
    {
     "data": {
      "application/vnd.jupyter.widget-view+json": {
       "model_id": "a70bc06d4c2947758a2b2cf80b2ff843",
       "version_major": 2,
       "version_minor": 0
      },
      "text/plain": [
       "ndpi_median.tif: |          | 0.00/2.04M (raw) [  0.0%] in 00:00 (eta:     ?)"
      ]
     },
     "metadata": {},
     "output_type": "display_data"
    },
    {
     "name": "stderr",
     "output_type": "stream",
     "text": [
      "There is no STAC entry for: None\n"
     ]
    }
   ],
   "source": [
    "\n",
    "geemap.download_ee_image(\n",
    "    ndvi_median,\n",
    "    filename=NDVI_MEDIAN,\n",
    "    region =geom,\n",
    "    crs=str(utm_crs),\n",
    "    scale= 10\n",
    ")\n",
    "\n",
    "\n",
    "geemap.download_ee_image(\n",
    "    evi_median,\n",
    "    filename=EVI_MEDIAN,\n",
    "    region =geom,\n",
    "    crs=str(utm_crs),\n",
    "    scale= 10,\n",
    "    dtype='float32'\n",
    ")\n",
    "\n",
    "geemap.download_ee_image(\n",
    "    bu_median,\n",
    "    filename=BU_MEDIAN,\n",
    "    region =geom,\n",
    "    crs=str(utm_crs),\n",
    "    scale= 10\n",
    ")\n",
    "\n",
    "\n",
    "geemap.download_ee_image(\n",
    "    ndwi_median,\n",
    "    filename=NDWI_MEDIAN,\n",
    "    region =geom,\n",
    "    crs=str(utm_crs),\n",
    "    scale= 10\n",
    ")\n",
    "\n",
    "\n",
    "geemap.download_ee_image(\n",
    "    ndpi_median,\n",
    "    filename=NDPI_MEDIAN,\n",
    "    region =geom,\n",
    "    crs=str(utm_crs),\n",
    "    scale= 10\n",
    ")\n"
   ]
  },
  {
   "cell_type": "markdown",
   "id": "ab9427c2",
   "metadata": {},
   "source": [
    "###  Buildings Layer"
   ]
  },
  {
   "cell_type": "code",
   "execution_count": 11,
   "id": "f328cb83",
   "metadata": {},
   "outputs": [
    {
     "data": {
      "text/html": [
       "\n",
       "            <style>\n",
       "                .geemap-dark {\n",
       "                    --jp-widgets-color: white;\n",
       "                    --jp-widgets-label-color: white;\n",
       "                    --jp-ui-font-color1: white;\n",
       "                    --jp-layout-color2: #454545;\n",
       "                    background-color: #383838;\n",
       "                }\n",
       "\n",
       "                .geemap-dark .jupyter-button {\n",
       "                    --jp-layout-color3: #383838;\n",
       "                }\n",
       "\n",
       "                .geemap-colab {\n",
       "                    background-color: var(--colab-primary-surface-color, white);\n",
       "                }\n",
       "\n",
       "                .geemap-colab .jupyter-button {\n",
       "                    --jp-layout-color3: var(--colab-primary-surface-color, white);\n",
       "                }\n",
       "            </style>\n",
       "            "
      ],
      "text/plain": [
       "<IPython.core.display.HTML object>"
      ]
     },
     "metadata": {},
     "output_type": "display_data"
    }
   ],
   "source": [
    "# geemap.ee_to_geojson(il_bldg, filename=BLDG_FP)"
   ]
  }
 ],
 "metadata": {
  "kernelspec": {
   "display_name": "groof",
   "language": "python",
   "name": "python3"
  },
  "language_info": {
   "codemirror_mode": {
    "name": "ipython",
    "version": 3
   },
   "file_extension": ".py",
   "mimetype": "text/x-python",
   "name": "python",
   "nbconvert_exporter": "python",
   "pygments_lexer": "ipython3",
   "version": "3.13.2"
  }
 },
 "nbformat": 4,
 "nbformat_minor": 5
}
