{
 "cells": [
  {
   "cell_type": "code",
   "execution_count": 1,
   "id": "48d1f800",
   "metadata": {},
   "outputs": [],
   "source": [
    "import sys\n",
    "sys.path.append('../')\n",
    "\n",
    "from groof.config import *\n",
    "\n",
    "from pathlib import Path\n",
    "\n",
    "from groof.geo import *\n",
    "import geopandas as gpd\n",
    "from shapely.geometry import box\n",
    "import rioxarray as rio\n",
    "from sklearn.model_selection import train_test_split"
   ]
  },
  {
   "cell_type": "code",
   "execution_count": 2,
   "id": "5f2e620e",
   "metadata": {},
   "outputs": [],
   "source": [
    "\n",
    "bbox = gpd.read_file(BBOX)\n",
    "utm_crs = bbox.estimate_utm_crs()\n",
    "bbox=bbox.to_crs(utm_crs)"
   ]
  },
  {
   "cell_type": "markdown",
   "id": "472ab21e",
   "metadata": {},
   "source": [
    "## Reproject To Local UTM CRS"
   ]
  },
  {
   "cell_type": "code",
   "execution_count": 3,
   "id": "54ebed73",
   "metadata": {},
   "outputs": [],
   "source": [
    "# reproject_rio(src_fp=S2_MEDIAN, dst_fp=S2_MOSAIC_REPROJ, dst_crs=utm_crs)\n",
    "\n",
    "\n",
    "# reproject_rio(src_fp=BU_MEDIAN, dst_fp=bu_reproj_fp, dst_crs=utm_crs)\n",
    "# reproject_rio(src_fp=NDWI_MEDIAN, dst_fp=ndwi_reproj_fp, dst_crs=utm_crs)\n",
    "# reproject_rio(src_fp=EVI_MEDIAN, dst_fp=evi_reproj_fp, dst_crs=utm_crs)"
   ]
  },
  {
   "cell_type": "markdown",
   "id": "eed1f6e4",
   "metadata": {},
   "source": [
    "## Rasterize Buildings"
   ]
  },
  {
   "cell_type": "code",
   "execution_count": 4,
   "id": "b912dc8e",
   "metadata": {},
   "outputs": [],
   "source": [
    "ref = rio.open_rasterio(EVI_MEDIAN)\n",
    "bldg = gpd.read_file(BLDG_FP).to_crs(utm_crs)\n",
    "bldg_clip = bldg.clip(bbox)[['HEIGHT', 'geometry']]\n",
    "bldg_clip['class'] = 1.0\n",
    "\n",
    "# Building Heights Raster\n",
    "rasterize_vector(\n",
    "    gdf= bldg_clip,\n",
    "    ref= ref,\n",
    "    attribute = 'HEIGHT',\n",
    "    out_path = PRC / 'building_height.tif'\n",
    ")\n",
    "\n",
    "# Building Binary Mask\n",
    "rasterize_vector(\n",
    "    gdf= bldg_clip,\n",
    "    ref= ref,\n",
    "    attribute = 'class',\n",
    "    out_path = PRC / 'building_mask.tif',\n",
    "    # fill_value = 0\n",
    ")"
   ]
  },
  {
   "cell_type": "markdown",
   "id": "8fa4049f",
   "metadata": {},
   "source": [
    "## Prepare Training Data"
   ]
  },
  {
   "cell_type": "code",
   "execution_count": 5,
   "id": "97de7f55",
   "metadata": {},
   "outputs": [],
   "source": [
    "groof_train = gpd.read_file(GROOF_TRAIN_AREAS).to_crs(utm_crs)\n",
    "groof_train['class'] = [2.0 if cl == 'green_roof' else 1.0 for cl in groof_train.class_name]\n",
    "# groof_train = groof_train[groof_train.class_name == 'green_roof']\n",
    "# groof_train['class'] = 1.0\n",
    "bldg_groof = bldg_clip.sjoin(groof_train.drop(columns=['class'])).drop(columns=['index_right']).drop_duplicates('geometry')\n",
    "\n",
    "\n",
    "rasterize_vector(\n",
    "    gdf= bldg_groof,\n",
    "    ref= ref,\n",
    "    attribute = 'class',\n",
    "    out_path = PRC / 'bldg_groof.tif',\n",
    "    # fill_value = 0\n",
    ")\n",
    "\n",
    "rasterize_vector(groof_train, \n",
    "                 ref=ref, \n",
    "                 attribute='class',\n",
    "                 crs = utm_crs,\n",
    "                 out_path = PRC / 'groof.tif'\n",
    "\n",
    ")"
   ]
  },
  {
   "cell_type": "markdown",
   "id": "ed5100d3",
   "metadata": {},
   "source": [
    "## Create Ground Truth Raster"
   ]
  },
  {
   "cell_type": "code",
   "execution_count": 6,
   "id": "f343204e",
   "metadata": {},
   "outputs": [],
   "source": [
    "bg = rio.open_rasterio(PRC / 'bldg_groof.tif')\n",
    "gr = rio.open_rasterio(PRC / 'groof.tif')\n",
    "\n",
    "groundtruth = bg.where(gr != 2, gr)\n",
    "groundtruth.rio.to_raster(PRC / 'bldg_groof_groundtruth.tif')\n",
    "\n",
    "\n"
   ]
  },
  {
   "cell_type": "code",
   "execution_count": 9,
   "id": "d5f9390d",
   "metadata": {},
   "outputs": [],
   "source": [
    "train, test = train_test_split(bldg_groof, test_size=0.2, random_state=42)\n",
    "\n",
    "\n",
    "train = groundtruth.rio.clip(train.geometry.values).rio.reproject_match(ref)\n",
    "train.rio.to_raster(TRAIN)\n",
    "\n",
    "\n",
    "test = groundtruth.rio.clip(test.geometry.values).rio.reproject_match(ref)\n",
    "test.rio.to_raster(TEST)"
   ]
  },
  {
   "cell_type": "markdown",
   "id": "b5adac62",
   "metadata": {},
   "source": [
    "## Match Rasters to Sentinel-2"
   ]
  },
  {
   "cell_type": "code",
   "execution_count": 10,
   "id": "447d49b7",
   "metadata": {},
   "outputs": [],
   "source": [
    "# groof_train = gpd.read_file(GROOF_TRAIN_AREAS).to_crs(utm_crs)\n",
    "# groof_train['class'] = [2.0 if cl == 'green_roof' else 1.0 for cl in groof_train.class_name]\n",
    "# train, test = train_test_split(groof_train, test_size=0.2, stratify=groof_train['class'], random_state=42)\n",
    "\n",
    "\n",
    "# # rasterize_vector(test, \n",
    "# #                  ref=ref, \n",
    "# #                  attribute='class',\n",
    "# #                  crs = utm_crs,\n",
    "# #                  fill_value = 0,\n",
    "# #                  out_path = 'data/prc/test.tif'\n",
    "# # )\n",
    "\n",
    "# rasterize_vector(train, \n",
    "#                  ref=ref, \n",
    "#                  attribute='class',\n",
    "#                  crs = utm_crs,\n",
    "#                  fill_value = 0,\n",
    "#                  out_path = TRAIN\n",
    "# )\n",
    "\n",
    "\n",
    "# rasterize_vector(test, \n",
    "#                  ref=ref, \n",
    "#                  attribute='class',\n",
    "#                  crs = utm_crs,\n",
    "#                  fill_value = 0,\n",
    "#                  out_path = TEST\n",
    "# )\n"
   ]
  }
 ],
 "metadata": {
  "kernelspec": {
   "display_name": "groof",
   "language": "python",
   "name": "python3"
  },
  "language_info": {
   "codemirror_mode": {
    "name": "ipython",
    "version": 3
   },
   "file_extension": ".py",
   "mimetype": "text/x-python",
   "name": "python",
   "nbconvert_exporter": "python",
   "pygments_lexer": "ipython3",
   "version": "3.13.2"
  }
 },
 "nbformat": 4,
 "nbformat_minor": 5
}
